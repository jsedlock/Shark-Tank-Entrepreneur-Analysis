{
 "cells": [
  {
   "cell_type": "code",
   "execution_count": 1,
   "metadata": {},
   "outputs": [],
   "source": [
    "import numpy as np\n",
    "import pandas as pd"
   ]
  },
  {
   "cell_type": "code",
   "execution_count": 2,
   "metadata": {},
   "outputs": [
    {
     "data": {
      "text/html": [
       "<div>\n",
       "<style scoped>\n",
       "    .dataframe tbody tr th:only-of-type {\n",
       "        vertical-align: middle;\n",
       "    }\n",
       "\n",
       "    .dataframe tbody tr th {\n",
       "        vertical-align: top;\n",
       "    }\n",
       "\n",
       "    .dataframe thead th {\n",
       "        text-align: right;\n",
       "    }\n",
       "</style>\n",
       "<table border=\"1\" class=\"dataframe\">\n",
       "  <thead>\n",
       "    <tr style=\"text-align: right;\">\n",
       "      <th></th>\n",
       "      <th>deal</th>\n",
       "      <th>description</th>\n",
       "      <th>episode</th>\n",
       "      <th>category</th>\n",
       "      <th>entrepreneurs</th>\n",
       "      <th>location</th>\n",
       "      <th>website</th>\n",
       "      <th>askedfor</th>\n",
       "      <th>exchangeforstake</th>\n",
       "      <th>valuation</th>\n",
       "      <th>season</th>\n",
       "      <th>shark1</th>\n",
       "      <th>shark2</th>\n",
       "      <th>shark3</th>\n",
       "      <th>shark4</th>\n",
       "      <th>shark5</th>\n",
       "      <th>title</th>\n",
       "      <th>episode_season</th>\n",
       "      <th>multiple_entreprenuers</th>\n",
       "    </tr>\n",
       "  </thead>\n",
       "  <tbody>\n",
       "    <tr>\n",
       "      <th>0</th>\n",
       "      <td>False</td>\n",
       "      <td>Bluetooth device implant for your ear.</td>\n",
       "      <td>1</td>\n",
       "      <td>Novelties</td>\n",
       "      <td>Darrin Johnson</td>\n",
       "      <td>St. Paul, MN</td>\n",
       "      <td>NaN</td>\n",
       "      <td>1000000</td>\n",
       "      <td>15</td>\n",
       "      <td>6666667</td>\n",
       "      <td>1</td>\n",
       "      <td>Barbara Corcoran</td>\n",
       "      <td>Robert Herjavec</td>\n",
       "      <td>Kevin O'Leary</td>\n",
       "      <td>Daymond John</td>\n",
       "      <td>Kevin Harrington</td>\n",
       "      <td>Ionic Ear</td>\n",
       "      <td>1-1</td>\n",
       "      <td>False</td>\n",
       "    </tr>\n",
       "    <tr>\n",
       "      <th>1</th>\n",
       "      <td>True</td>\n",
       "      <td>Retail and wholesale pie factory with two reta...</td>\n",
       "      <td>1</td>\n",
       "      <td>Specialty Food</td>\n",
       "      <td>Tod Wilson</td>\n",
       "      <td>Somerset, NJ</td>\n",
       "      <td>http://whybake.com/</td>\n",
       "      <td>460000</td>\n",
       "      <td>10</td>\n",
       "      <td>4600000</td>\n",
       "      <td>1</td>\n",
       "      <td>Barbara Corcoran</td>\n",
       "      <td>Robert Herjavec</td>\n",
       "      <td>Kevin O'Leary</td>\n",
       "      <td>Daymond John</td>\n",
       "      <td>Kevin Harrington</td>\n",
       "      <td>Mr. Tod's Pie Factory</td>\n",
       "      <td>1-1</td>\n",
       "      <td>False</td>\n",
       "    </tr>\n",
       "    <tr>\n",
       "      <th>2</th>\n",
       "      <td>True</td>\n",
       "      <td>Ava the Elephant is a godsend for frazzled par...</td>\n",
       "      <td>1</td>\n",
       "      <td>Baby and Child Care</td>\n",
       "      <td>Tiffany Krumins</td>\n",
       "      <td>Atlanta, GA</td>\n",
       "      <td>http://www.avatheelephant.com/</td>\n",
       "      <td>50000</td>\n",
       "      <td>15</td>\n",
       "      <td>333333</td>\n",
       "      <td>1</td>\n",
       "      <td>Barbara Corcoran</td>\n",
       "      <td>Robert Herjavec</td>\n",
       "      <td>Kevin O'Leary</td>\n",
       "      <td>Daymond John</td>\n",
       "      <td>Kevin Harrington</td>\n",
       "      <td>Ava the Elephant</td>\n",
       "      <td>1-1</td>\n",
       "      <td>False</td>\n",
       "    </tr>\n",
       "    <tr>\n",
       "      <th>3</th>\n",
       "      <td>False</td>\n",
       "      <td>Organizing, packing, and moving services deliv...</td>\n",
       "      <td>1</td>\n",
       "      <td>Consumer Services</td>\n",
       "      <td>Nick Friedman, Omar Soliman</td>\n",
       "      <td>Tampa, FL</td>\n",
       "      <td>http://collegehunkshaulingjunk.com/</td>\n",
       "      <td>250000</td>\n",
       "      <td>25</td>\n",
       "      <td>1000000</td>\n",
       "      <td>1</td>\n",
       "      <td>Barbara Corcoran</td>\n",
       "      <td>Robert Herjavec</td>\n",
       "      <td>Kevin O'Leary</td>\n",
       "      <td>Daymond John</td>\n",
       "      <td>Kevin Harrington</td>\n",
       "      <td>College Foxes Packing Boxes</td>\n",
       "      <td>1-1</td>\n",
       "      <td>False</td>\n",
       "    </tr>\n",
       "    <tr>\n",
       "      <th>4</th>\n",
       "      <td>False</td>\n",
       "      <td>Interactive media centers for healthcare waiti...</td>\n",
       "      <td>1</td>\n",
       "      <td>Consumer Services</td>\n",
       "      <td>Kevin Flannery</td>\n",
       "      <td>Cary, NC</td>\n",
       "      <td>http://www.wispots.com/</td>\n",
       "      <td>1200000</td>\n",
       "      <td>10</td>\n",
       "      <td>12000000</td>\n",
       "      <td>1</td>\n",
       "      <td>Barbara Corcoran</td>\n",
       "      <td>Robert Herjavec</td>\n",
       "      <td>Kevin O'Leary</td>\n",
       "      <td>Daymond John</td>\n",
       "      <td>Kevin Harrington</td>\n",
       "      <td>Wispots</td>\n",
       "      <td>1-1</td>\n",
       "      <td>False</td>\n",
       "    </tr>\n",
       "  </tbody>\n",
       "</table>\n",
       "</div>"
      ],
      "text/plain": [
       "    deal                                        description  episode  \\\n",
       "0  False             Bluetooth device implant for your ear.        1   \n",
       "1   True  Retail and wholesale pie factory with two reta...        1   \n",
       "2   True  Ava the Elephant is a godsend for frazzled par...        1   \n",
       "3  False  Organizing, packing, and moving services deliv...        1   \n",
       "4  False  Interactive media centers for healthcare waiti...        1   \n",
       "\n",
       "              category                entrepreneurs      location  \\\n",
       "0            Novelties               Darrin Johnson  St. Paul, MN   \n",
       "1       Specialty Food                   Tod Wilson  Somerset, NJ   \n",
       "2  Baby and Child Care              Tiffany Krumins   Atlanta, GA   \n",
       "3    Consumer Services  Nick Friedman, Omar Soliman     Tampa, FL   \n",
       "4    Consumer Services               Kevin Flannery      Cary, NC   \n",
       "\n",
       "                               website  askedfor  exchangeforstake  valuation  \\\n",
       "0                                  NaN   1000000                15    6666667   \n",
       "1                  http://whybake.com/    460000                10    4600000   \n",
       "2       http://www.avatheelephant.com/     50000                15     333333   \n",
       "3  http://collegehunkshaulingjunk.com/    250000                25    1000000   \n",
       "4              http://www.wispots.com/   1200000                10   12000000   \n",
       "\n",
       "   season            shark1           shark2         shark3        shark4  \\\n",
       "0       1  Barbara Corcoran  Robert Herjavec  Kevin O'Leary  Daymond John   \n",
       "1       1  Barbara Corcoran  Robert Herjavec  Kevin O'Leary  Daymond John   \n",
       "2       1  Barbara Corcoran  Robert Herjavec  Kevin O'Leary  Daymond John   \n",
       "3       1  Barbara Corcoran  Robert Herjavec  Kevin O'Leary  Daymond John   \n",
       "4       1  Barbara Corcoran  Robert Herjavec  Kevin O'Leary  Daymond John   \n",
       "\n",
       "             shark5                        title episode_season  \\\n",
       "0  Kevin Harrington                    Ionic Ear            1-1   \n",
       "1  Kevin Harrington        Mr. Tod's Pie Factory            1-1   \n",
       "2  Kevin Harrington             Ava the Elephant            1-1   \n",
       "3  Kevin Harrington  College Foxes Packing Boxes            1-1   \n",
       "4  Kevin Harrington                      Wispots            1-1   \n",
       "\n",
       "   multiple_entreprenuers  \n",
       "0                   False  \n",
       "1                   False  \n",
       "2                   False  \n",
       "3                   False  \n",
       "4                   False  "
      ]
     },
     "execution_count": 2,
     "metadata": {},
     "output_type": "execute_result"
    }
   ],
   "source": [
    "df = pd.read_csv('shark_tank_companies.csv')\n",
    "df.head()"
   ]
  },
  {
   "cell_type": "code",
   "execution_count": 3,
   "metadata": {},
   "outputs": [
    {
     "data": {
      "text/plain": [
       "deal                        bool\n",
       "description               object\n",
       "episode                    int64\n",
       "category                  object\n",
       "entrepreneurs             object\n",
       "location                  object\n",
       "website                   object\n",
       "askedfor                   int64\n",
       "exchangeforstake           int64\n",
       "valuation                  int64\n",
       "season                     int64\n",
       "shark1                    object\n",
       "shark2                    object\n",
       "shark3                    object\n",
       "shark4                    object\n",
       "shark5                    object\n",
       "title                     object\n",
       "episode_season            object\n",
       "multiple_entreprenuers      bool\n",
       "dtype: object"
      ]
     },
     "execution_count": 3,
     "metadata": {},
     "output_type": "execute_result"
    }
   ],
   "source": [
    "df.dtypes"
   ]
  },
  {
   "cell_type": "code",
   "execution_count": 8,
   "metadata": {},
   "outputs": [
    {
     "data": {
      "text/plain": [
       "<AxesSubplot:>"
      ]
     },
     "execution_count": 8,
     "metadata": {},
     "output_type": "execute_result"
    },
    {
     "data": {
      "image/png": "[encoded data removed]",
      "text/plain": [
       "<Figure size 432x288 with 1 Axes>"
      ]
     },
     "metadata": {
      "needs_background": "light"
     },
     "output_type": "display_data"
    }
   ],
   "source": [
    "df['category'].value_counts()[:10].plot(kind ='barh')"
   ]
  },
  {
   "attachments": {},
   "cell_type": "markdown",
   "metadata": {},
   "source": [
    "Specialty Foods seem to be the most recurring product types to appear on Shark Tank. If you are a regulat watcher of the show, this shoudl come as no surprise to you."
   ]
  }
 ],
 "metadata": {
  "kernelspec": {
   "display_name": "Python 3",
   "language": "python",
   "name": "python3"
  },
  "language_info": {
   "codemirror_mode": {
    "name": "ipython",
    "version": 3
   },
   "file_extension": ".py",
   "mimetype": "text/x-python",
   "name": "python",
   "nbconvert_exporter": "python",
   "pygments_lexer": "ipython3",
   "version": "3.10.5"
  },
  "orig_nbformat": 4
 },
 "nbformat": 4,
 "nbformat_minor": 2
}
